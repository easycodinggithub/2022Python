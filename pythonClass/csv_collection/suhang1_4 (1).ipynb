{
 "cells": [
  {
   "cell_type": "code",
   "execution_count": null,
   "id": "2bcc23b3",
   "metadata": {},
   "outputs": [],
   "source": [
    "exStr = \"I have a dream that one day every valley shall be exalted and every hill and mountain shall be made low. Create the highest, grandest vision possible for your life, because you become what you believe.\"\n",
    "\n",
    "reStr = exStr.replace(\".\", \"\").replace(\",\",\"\")\n",
    "setStr = set(reStr.split(\" \"))\n",
    "\n",
    "print(f\"사용된 단어의 개수 : {len(setStr)}\")\n",
    "print(setStr)"
   ]
  }
 ],
 "metadata": {
  "kernelspec": {
   "display_name": "Python 3 (ipykernel)",
   "language": "python",
   "name": "python3"
  },
  "language_info": {
   "codemirror_mode": {
    "name": "ipython",
    "version": 3
   },
   "file_extension": ".py",
   "mimetype": "text/x-python",
   "name": "python",
   "nbconvert_exporter": "python",
   "pygments_lexer": "ipython3",
   "version": "3.9.12"
  }
 },
 "nbformat": 4,
 "nbformat_minor": 5
}
