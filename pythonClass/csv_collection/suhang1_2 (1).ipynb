{
 "cells": [
  {
   "cell_type": "code",
   "execution_count": null,
   "id": "102682bc",
   "metadata": {},
   "outputs": [],
   "source": [
    "n = 100\n",
    "a = [True] * (n + 1)\n",
    "m = int(n**0.5)\n",
    "\n",
    "for i in range(2, m + 1):\n",
    "    if a[i] == True:\n",
    "        for j in range(i + i, n + 1, i):\n",
    "            a[j] = False\n",
    "\n",
    "prime = [i for i in range(2, n + 1) if a[i] == True]\n",
    "print(prime)\n",
    "\n",
    "for i in range(0, len(prime) - 2):\n",
    "    if prime[i+1] - prime[i] == 2:\n",
    "        print(prime[i], prime[i+1])"
   ]
  },
  {
   "cell_type": "code",
   "execution_count": null,
   "id": "042beea5",
   "metadata": {},
   "outputs": [],
   "source": [
    "check = [0] * 101\n",
    "for i in range( 2, 101 ):\n",
    "    if check[i] == 0:\n",
    "        print(i, end = \" \")\n",
    "        for j in range(i * i, 101, i):\n",
    "            check[j] = 1\n",
    "\n",
    "print(\"\\n\")\n",
    "for i in range( 2, 99 ):\n",
    "    if check[i] == 0 and check[i+2] == 0:\n",
    "        print(i, i+2)"
   ]
  },
  {
   "cell_type": "markdown",
   "id": "e25af08e",
   "metadata": {},
   "source": []
  }
 ],
 "metadata": {
  "kernelspec": {
   "display_name": "Python 3.10.6 64-bit",
   "language": "python",
   "name": "python3"
  },
  "language_info": {
   "codemirror_mode": {
    "name": "ipython",
    "version": 3
   },
   "file_extension": ".py",
   "mimetype": "text/x-python",
   "name": "python",
   "nbconvert_exporter": "python",
   "pygments_lexer": "ipython3",
   "version": "3.10.6"
  },
  "vscode": {
   "interpreter": {
    "hash": "aee8b7b246df8f9039afb4144a1f6fd8d2ca17a180786b69acc140d282b71a49"
   }
  }
 },
 "nbformat": 4,
 "nbformat_minor": 5
}
