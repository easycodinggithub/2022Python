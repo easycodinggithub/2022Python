{
 "cells": [
  {
   "cell_type": "code",
   "execution_count": null,
   "id": "10ee2443",
   "metadata": {},
   "outputs": [],
   "source": [
    "def getIntRange(a, b=0):\n",
    "    if a < 1 or a >12:\n",
    "        getIntRange(int(input(\"월을 입력하세요(1부터 12사이의 값) :\")))\n",
    "        return\n",
    "    else:\n",
    "        m31 = [1,3,5,7,8,10,12]\n",
    "        m30 = [4,6,9,11]\n",
    "        if a in m31:\n",
    "            b = int(input(\"일을 입력하세요(1부터 31사이의 값) :\"))\n",
    "            if b < 1 or b > 31:\n",
    "                getIntRange(a, int(input(\"일을 입력하세요(1부터 31사이의 값) :\")))\n",
    "                return\n",
    "        elif a in m30:\n",
    "            if b < 1 or b > 30:\n",
    "                getIntRange(a, int(input(\"일을 입력하세요(1부터 31사이의 값) :\")))\n",
    "                return\n",
    "        elif a == 2:\n",
    "            if b < 1 or b > 28:\n",
    "                getIntRange(a, int(input(\"일을 입력하세요(1부터 31사이의 값) :\")))\n",
    "                return\n",
    "        else:\n",
    "            return\n",
    "    print(f\"입력된 날짜는 {a}월 {b}일 입니다.\")\n",
    "    return\n",
    "\n",
    "getIntRange(int(input(\"날짜를 입력하세요.(월과 일)\\n월을 입력하세요(1부터 12사이의 값) :\")))"
   ]
  }
 ],
 "metadata": {
  "kernelspec": {
   "display_name": "Python 3 (ipykernel)",
   "language": "python",
   "name": "python3"
  },
  "language_info": {
   "codemirror_mode": {
    "name": "ipython",
    "version": 3
   },
   "file_extension": ".py",
   "mimetype": "text/x-python",
   "name": "python",
   "nbconvert_exporter": "python",
   "pygments_lexer": "ipython3",
   "version": "3.9.12"
  }
 },
 "nbformat": 4,
 "nbformat_minor": 5
}
