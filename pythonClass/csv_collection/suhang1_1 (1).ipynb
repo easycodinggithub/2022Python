{
 "cells": [
  {
   "cell_type": "code",
   "execution_count": null,
   "id": "a9ff1198",
   "metadata": {},
   "outputs": [],
   "source": [
    "cnt = 0\n",
    "leap_year = []\n",
    "\n",
    "for year in range(2020, 2400, 1):\n",
    "    if cnt < 5:\n",
    "        if year % 400 == 0:\n",
    "            cnt += 1\n",
    "            leap_year.append(year)\n",
    "        elif year % 4 == 0 and year % 100 != 0:\n",
    "            cnt += 1\n",
    "            leap_year.append(year)\n",
    "        else:\n",
    "            continue\n",
    "    else:\n",
    "        break\n",
    "\n",
    "print(cnt)\n",
    "print(leap_year)"
   ]
  }
 ],
 "metadata": {
  "kernelspec": {
   "display_name": "Python 3 (ipykernel)",
   "language": "python",
   "name": "python3"
  },
  "language_info": {
   "codemirror_mode": {
    "name": "ipython",
    "version": 3
   },
   "file_extension": ".py",
   "mimetype": "text/x-python",
   "name": "python",
   "nbconvert_exporter": "python",
   "pygments_lexer": "ipython3",
   "version": "3.9.12"
  }
 },
 "nbformat": 4,
 "nbformat_minor": 5
}
