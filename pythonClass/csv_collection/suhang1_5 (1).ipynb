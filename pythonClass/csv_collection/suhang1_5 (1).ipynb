{
 "cells": [
  {
   "cell_type": "code",
   "execution_count": null,
   "id": "a3c3716e",
   "metadata": {},
   "outputs": [],
   "source": [
    "a = [0]\n",
    "a[1:] = list(map(int, input().split()))\n",
    "\n",
    "s = 0\n",
    "\n",
    "for x in a[1:]:\n",
    "    s += x\n",
    "    if s < 100:\n",
    "        res = s\n",
    "    else:\n",
    "        if 100 - res >= s - 100:\n",
    "            res = s\n",
    "        break\n",
    "        \n",
    "print(str(res))"
   ]
  }
 ],
 "metadata": {
  "kernelspec": {
   "display_name": "Python 3.10.6 64-bit",
   "language": "python",
   "name": "python3"
  },
  "language_info": {
   "codemirror_mode": {
    "name": "ipython",
    "version": 3
   },
   "file_extension": ".py",
   "mimetype": "text/x-python",
   "name": "python",
   "nbconvert_exporter": "python",
   "pygments_lexer": "ipython3",
   "version": "3.10.6"
  },
  "vscode": {
   "interpreter": {
    "hash": "aee8b7b246df8f9039afb4144a1f6fd8d2ca17a180786b69acc140d282b71a49"
   }
  }
 },
 "nbformat": 4,
 "nbformat_minor": 5
}
